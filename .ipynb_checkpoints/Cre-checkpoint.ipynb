{
 "cells": [
  {
   "cell_type": "markdown",
   "id": "a2222ec9",
   "metadata": {},
   "source": [
    "# Visual story telling part 2: Capital Metro data"
   ]
  },
  {
   "cell_type": "code",
   "execution_count": null,
   "id": "8c9427e8",
   "metadata": {},
   "outputs": [],
   "source": [
    "import pandas as pd\n",
    "import seaborn as sns\n",
    "import matplotlib.pyplot as plt\n",
    "\n",
    "# Load data\n",
    "df = pd.read_csv('capmetro_UT.csv')\n",
    "\n",
    "# Heatmap of average boarding for each hour of the day for each day of the week.\n",
    "heatmap_data = df.groupby(['day_of_week', 'hour_of_day'])['boarding'].mean().unstack()\n",
    "plt.figure(figsize=(12, 7))\n",
    "sns.heatmap(heatmap_data, cmap='YlGnBu', annot=True, fmt=\".1f\")\n",
    "plt.title('Average Boardings by Day of Week and Hour of Day')\n",
    "plt.show()\n",
    "\n",
    "# Line chart of average temperature and total ridership by hour.\n",
    "df_hourly = df.groupby('hour_of_day').agg({'temperature': 'mean', 'boarding': 'sum'})\n",
    "fig, ax1 = plt.subplots(figsize=(12, 7))\n",
    "\n",
    "ax1.set_xlabel('Hour of Day')\n",
    "ax1.set_ylabel('Average Temperature (°F)', color='tab:red')\n",
    "ax1.plot(df_hourly.index, df_hourly['temperature'], color='tab:red', label='Average Temperature')\n",
    "ax1.tick_params(axis='y', labelcolor='tab:red')\n",
    "\n",
    "ax2 = ax1.twinx()\n",
    "ax2.set_ylabel('Total Boardings', color='tab:blue')\n",
    "ax2.plot(df_hourly.index, df_hourly['boarding'], color='tab:blue', label='Total Boardings')\n",
    "ax2.tick_params(axis='y', labelcolor='tab:blue')\n",
    "\n",
    "fig.tight_layout()\n",
    "plt.title('Average Temperature vs. Total Boardings by Hour of Day')\n",
    "plt.show()\n",
    "\n",
    "# Facet grid of net ridership by month.\n",
    "df['net_ridership'] = df['boarding'] - df['alighting']\n",
    "g = sns.FacetGrid(df, col='month', col_wrap=3, height=4)\n",
    "g = g.map(plt.plot, 'hour_of_day', 'net_ridership', marker=\".\")\n",
    "g.set_titles(\"Month: {col_name}\")\n",
    "g.set_xlabels(\"Hour of Day\")\n",
    "g.set_ylabels(\"Net Ridership\")\n",
    "plt.subplots_adjust(top=0.9)\n",
    "g.fig.suptitle('Net Ridership by Hour for Each Month')\n",
    "plt.show()\n"
   ]
  }
 ],
 "metadata": {
  "kernelspec": {
   "display_name": "Python 3 (ipykernel)",
   "language": "python",
   "name": "python3"
  },
  "language_info": {
   "codemirror_mode": {
    "name": "ipython",
    "version": 3
   },
   "file_extension": ".py",
   "mimetype": "text/x-python",
   "name": "python",
   "nbconvert_exporter": "python",
   "pygments_lexer": "ipython3",
   "version": "3.11.3"
  }
 },
 "nbformat": 4,
 "nbformat_minor": 5
}
