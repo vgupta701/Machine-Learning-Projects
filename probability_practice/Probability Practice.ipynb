{
 "cells": [
  {
   "cell_type": "markdown",
   "id": "e8b5162c",
   "metadata": {},
   "source": [
    "## Probability practice"
   ]
  },
  {
   "cell_type": "markdown",
   "id": "6a33cf33",
   "metadata": {},
   "source": [
    "### Part A. \n",
    " > Visitors to your website are asked to answer a single survey question before they get access to the content on the page. Among all of the users, there are two categories: Random Clicker (RC), and Truthful Clicker (TC). There are two possible answers to the survey: yes and no. Random clickers would click either one with equal probability. You are also giving the information that the expected fraction of random clickers is 0.3. After a trial period, you get the following survey results: 65% said Yes and 35% said No. What fraction of people who are truthful clickers answered yes? Hint: use the rule of total probability."
   ]
  },
  {
   "cell_type": "markdown",
   "id": "9e1e6e47",
   "metadata": {},
   "source": [
    "Let's define the following variables:\n",
    " - Let Y be the event that a user answered \"Yes.\"\n",
    " - Let N be the event that a user answered \"No.\"\n",
    " - Let RC be the event that a user is a Random Clicker.\n",
    " - Let TC be the event that a user is a Truthful Clicker.\n",
    "\n",
    "\n",
    "We are given the following information:\n",
    " - The expected fraction of random clickers is 0.3. Therefore, P(RC) = 0.3, and P(TC) = 1 - P(RC) = 0.7.\n",
    " - The survey results show that 65% said Yes, and 35% said No. So, P(Y) = 0.65 and P(N) = 0.35.\n",
    " - Now, we need to find P(Y|TC), the probability that a Truthful Clicker answered \"Yes.\"\n",
    "\n",
    "\n",
    "Using the rule of total probability, we can express P(Y) as the sum of two cases:\n",
    "P(Y) = P(Y|RC) * P(RC) + P(Y|TC) * P(TC)\n",
    "\n",
    "We know that Random Clickers click either \"Yes\" or \"No\" with equal probability, so P(Y|RC) = P(N|RC) = 0.5.\n",
    "\n",
    "Substituting the values, we get: 0.65 = 0.5 * 0.3 + P(Y|TC) * 0.7\n",
    "\n",
    "\n",
    "Now, solve for P(Y|TC):\n",
    " - P(Y|TC) = (0.65 - 0.5 * 0.3) / 0.7\n",
    " - P(Y|TC) = (0.65 - 0.15) / 0.7\n",
    " - P(Y|TC) = 0.5 / 0.7\n",
    " - P(Y|TC) ≈ 0.7143\n",
    "\n",
    "So, the fraction of people who are truthful clickers and answered \"Yes\" is approximately 0.7143 or 71.43%."
   ]
  },
  {
   "cell_type": "markdown",
   "id": "35ac9d1f",
   "metadata": {},
   "source": [
    "### Part B. \n",
    "\n",
    "> Imagine a medical test for a disease with the following two attributes:\n",
    "The sensitivity is about 0.993. That is, if someone has the disease, there is a probability of 0.993 that they will test positive.\n",
    "The specificity is about 0.9999. This means that if someone doesn't have the disease, there is probability of 0.9999 that they will test negative.\n",
    "In the general population, incidence of the disease is reasonably rare: about 0.0025% of all people have it (or 0.000025 as a decimal probability).\n",
    "Suppose someone tests positive. What is the probability that they have the disease?"
   ]
  },
  {
   "cell_type": "markdown",
   "id": "e1c2252e",
   "metadata": {},
   "source": [
    "Given:\n",
    "- Sensitivity (P(B|A)): 0.993 (probability of testing positive given the person has the disease).\n",
    "- Specificity (P(\\~B|\\~A)): 0.9999 (probability of testing negative given the person doesn't have the disease).\n",
    "- Incidence (P(A)): 0.000025 (probability of a randomly selected person having the disease).\n",
    "\n",
    "To find: P(A|B) (probability that a person has the disease given they tested positive).\n",
    "\n",
    "Using Bayes' theorem:\n",
    "P(A|B) = (P(B|A) * P(A)) / P(B)\n",
    "\n",
    "Calculating P(B):\n",
    "P(B) = P(B|A) * P(A) + P(B|\\~A) * P(\\~A) = 0.993 * 0.000025 + (1 - 0.000025) * (1 - 0.9999)\n",
    "\n",
    "Calculate P(A|B):\n",
    "P(A|B) = (0.993 * 0.000025) / P(B)\n",
    "\n",
    "Final result:\n",
    "P(A|B) ≈ 0.00989 or 0.989% (probability that a person has the disease given they tested positive)."
   ]
  }
 ],
 "metadata": {
  "kernelspec": {
   "display_name": "Python 3 (ipykernel)",
   "language": "python",
   "name": "python3"
  },
  "language_info": {
   "codemirror_mode": {
    "name": "ipython",
    "version": 3
   },
   "file_extension": ".py",
   "mimetype": "text/x-python",
   "name": "python",
   "nbconvert_exporter": "python",
   "pygments_lexer": "ipython3",
   "version": "3.11.3"
  }
 },
 "nbformat": 4,
 "nbformat_minor": 5
}
